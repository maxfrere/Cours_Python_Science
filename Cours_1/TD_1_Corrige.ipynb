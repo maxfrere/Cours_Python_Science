{
 "cells": [
  {
   "cell_type": "markdown",
   "id": "8a077617",
   "metadata": {},
   "source": [
    "# TD n°1 : Introduction, mise à niveau\n",
    "## 0 - Attribution, affichage et interaction\n",
    "### Attribution et affichage\n",
    "Pour attribuer une variable, utilisez l'opérateur **=** de la manière qui suit :\n",
    "\n",
    "**nom_de_variable** = **objet_a_attribuer**.\n",
    "\n",
    "Les noms de variables se doivent d'être en  minuscule, sans espace, sans accent et ne peuvent pas commencer  par un nombre, il est vivement conseillé  de nommer ces dernières de manières pertinentes. \n",
    "\n",
    "Pour afficher un élément, utilisez la  méthode **print(*arg*)** où *arg* correspond à autant d'objets (ou variables) que l'on veut mettre, séparé par une virgule.\n",
    "\n",
    "Sachant que les langages de programmation lisent de  haut vers le bas, si on fait appel à un variable ou fonction personnel, il faut l'avoir déclaré avant et on ne peut donner qu'une instruction par ligne.\n",
    "\n",
    "#### Exemple :"
   ]
  },
  {
   "cell_type": "code",
   "execution_count": 4,
   "id": "6fb498af",
   "metadata": {},
   "outputs": [
    {
     "name": "stdout",
     "output_type": "stream",
     "text": [
      "72\n",
      "Le résultat est :  72 .\n",
      "Le résultat est : 72.\n"
     ]
    }
   ],
   "source": [
    "variable_1 = 24 #On atribue 24 à notre variable_1\n",
    "multiplicateur_1 = 3  #On atribue 3 à notre multiplicateur_1\n",
    "resultat = variable_1 * multiplicateur_1 #On atribue le résultat de la multiplication à resultat\n",
    "\n",
    "print(resultat) #On affiche le réultat brut\n",
    "print(\"Le résultat est : \",resultat,\".\") #On habille notre résultat avec une chaine  de charactère\n",
    "print(f\"Le résultat est : {resultat}.\") #Intégration directe de la variable dans le texte"
   ]
  },
  {
   "cell_type": "markdown",
   "id": "850be916",
   "metadata": {},
   "source": [
    "On constate que le second affichage est moins propre, car par défaut **print()** met un espace  entre  chaque élément et un saut  de ligne à la fin. Cela peut être modifié par les arguments optionnels, en effet, la méthode complète s'écrit **print(*arg*, sep=\" \", end=\"\\n\")** où **sep** et **end** ont déjà des valeurs par défaut d'où la non nécessitée de les indiquer. Ainsi, en reprenant notre exemple précédent :"
   ]
  },
  {
   "cell_type": "code",
   "execution_count": 5,
   "id": "75fa2547",
   "metadata": {},
   "outputs": [
    {
     "name": "stdout",
     "output_type": "stream",
     "text": [
      "Le résultat est : 72.\n"
     ]
    }
   ],
   "source": [
    "print(\"Le résultat est : \",resultat,\".\",sep=\"\") #On remplace l'espace par un vide"
   ]
  },
  {
   "cell_type": "markdown",
   "id": "6efe0b1b",
   "metadata": {},
   "source": [
    "### La fonction **input()**\n",
    "Cette dernière permet de rendre inter-actif votre programme en demandant des informations à l'utilisateur.\n",
    "Il faut lui fournir en argument un texte en string à afficher et il renverra en attribution le texte tapé par l'utilisateur :\n",
    "\n",
    "**nom_de_variable** = **print(\"texte à afficher\")**\n",
    "\n",
    "#### Exemple :"
   ]
  },
  {
   "cell_type": "code",
   "execution_count": 6,
   "id": "c3ea4aa9",
   "metadata": {},
   "outputs": [
    {
     "name": "stdout",
     "output_type": "stream",
     "text": [
      "Quel est votre nom  ?max\n",
      "Bonjour max !\n"
     ]
    }
   ],
   "source": [
    "reponse = input(\"Quel est votre nom  ?\")\n",
    "print(f\"Bonjour {reponse} !\")"
   ]
  },
  {
   "cell_type": "markdown",
   "id": "ead4af88",
   "metadata": {},
   "source": [
    "### Exercice 1 : les bases\n",
    "Créer un variable auquel vous attribuerez un poids (en kg) et une autre avec une taille (en m).\n",
    "\n",
    "Après cela, attribuée à une dernière variable votre poids/(taille x taille) (la multiplication correspond à * dans Python), c'est l'IMC.\n",
    "\n",
    "Attribuer une dernière variable en demandant le nom de l'utilisateur.\n",
    "\n",
    "Finalement, afficher toutes les informations de la manière la plus élégante possible."
   ]
  },
  {
   "cell_type": "code",
   "execution_count": 2,
   "id": "d86a1693",
   "metadata": {},
   "outputs": [
    {
     "name": "stdout",
     "output_type": "stream",
     "text": [
      "Quel est votre nom ?jh\n",
      "jh,\n",
      " votre I.M.C est de 4.8979591836734695\n"
     ]
    }
   ],
   "source": [
    "#A vous de jouer :\n",
    "\n",
    "poid = 15  # variable poid\n",
    "taille = 1.75 # variable taille\n",
    "\n",
    "IMC = poid/taille**2 # variable intermédiaire IMC\n",
    "\n",
    "nom = input(\"Quel est votre nom ?\") # demande pour le nom \n",
    "\n",
    "print(f\"{nom},\\n votre I.M.C est de {IMC}\") # affichage en fsstring\n"
   ]
  },
  {
   "cell_type": "markdown",
   "id": "02fcbbc0",
   "metadata": {},
   "source": [
    "## I - Identifier les variables et opérations associées\n",
    "Python de manière native comporte ces différentes natures (objets) :\n",
    "\n",
    "- **int** : entier naturel\n",
    "- **float** : nombres décimaux\n",
    "- **str :** chaîne de caractères. Valeur entre \"\"\n",
    "- **bool :** booleen True/False\n",
    "\n",
    "- **list** : liste d'éléments, la nature des éléments peut être varié. Valeur entre []\n",
    "- **tupple** : couple, triplet de données insécable. Valeur entre ()\n",
    "- **Dict** : dictionnaire pouvant ranger différentes natures par des clefs d'indexation valeur entre {}\n",
    "\n",
    "Grâce aux librairies usuellement utilisées en science, de nouvelles natures apparaissent :\n",
    "- **array (numpy)** : tableau au sens mathématique, une matrice. Valeur entre []\n",
    "- **DataFrame (pandas)** : série de données avec gestion temporelle\n",
    "\n",
    "- **Autres** : les librairies rajoutent souvent des natures afin de mieux résoudre les problématiques auxquelles elles sont dédiées.\n",
    "\n",
    "### I.1 - Les variables et leurs natures\n",
    "Contrairement à bien d'autres langages, il n'est pas nécessaire de déclarer la nature de la variable lors de sa création, python va se charger lui-même de reconnaître cette dernière. Cela rend l'usage plus simple, mais peut aussi créer des pièges, où une erreur de nature d'attribution se propage en erreur parfois complexe à retrouver.\n",
    "\n",
    "Python permet d'afficher les natures par la fonction (built-in) : **type(arg)**, où ***arg*** est la variable d'intérêt.\n",
    "\n",
    "Il autorise aussi d'effectuer des changements de nature (ou forçage) quand cela est possible :\n",
    "- **int -> float** : float(2) -> 2.00\n",
    "- **float -> int** : int(2.2) -> 2\n",
    "- **str -> float** : eval(\"43.23+2\") -> 45.23\n",
    "- **float -> str** : str(4.2) -> \"4.2\"\n",
    "\n",
    "### Exemples :"
   ]
  },
  {
   "cell_type": "code",
   "execution_count": 8,
   "id": "5c9ca603",
   "metadata": {},
   "outputs": [
    {
     "name": "stdout",
     "output_type": "stream",
     "text": [
      "<class 'float'>\n"
     ]
    }
   ],
   "source": [
    "variable_1 = 2.0\n",
    "print(type(variable_1))"
   ]
  },
  {
   "cell_type": "code",
   "execution_count": 9,
   "id": "66b2508a",
   "metadata": {},
   "outputs": [
    {
     "name": "stdout",
     "output_type": "stream",
     "text": [
      "<class 'int'>\n"
     ]
    }
   ],
   "source": [
    "variable_2 = 2\n",
    "print(type(variable_2))"
   ]
  },
  {
   "cell_type": "code",
   "execution_count": 10,
   "id": "5e7ad0e3",
   "metadata": {},
   "outputs": [
    {
     "name": "stdout",
     "output_type": "stream",
     "text": [
      "<class 'float'>\n"
     ]
    }
   ],
   "source": [
    "variable_2=float(variable_2)\n",
    "print(type(variable_2))"
   ]
  },
  {
   "cell_type": "code",
   "execution_count": 11,
   "id": "86f72f5b",
   "metadata": {},
   "outputs": [
    {
     "name": "stdout",
     "output_type": "stream",
     "text": [
      "chaine 1 : 43.5, <class 'float'> \n",
      "chaine 2 : 1392.0, <class 'float'>\n"
     ]
    }
   ],
   "source": [
    "chaine_1 = \"43.5\"\n",
    "chaine_2 = \"43.5*2**5\"\n",
    "print(f\"chaine 1 : {eval(chaine_1)}, {type(eval(chaine_1))}\",f\"\\nchaine 2 : {eval(chaine_2)}, {type(eval(chaine_2))}\")"
   ]
  },
  {
   "cell_type": "markdown",
   "id": "ca0ecb32",
   "metadata": {},
   "source": [
    "Il existe une fonction dédié pour vérifier la nature d'un objet : **isinstance(arg,nature)** avec ***arg*** la variable et ***nature*** la nature que l'on recherche. Cette dernière renvoie **True** ou **False**."
   ]
  },
  {
   "cell_type": "code",
   "execution_count": 12,
   "id": "accdbc1f",
   "metadata": {},
   "outputs": [
    {
     "name": "stdout",
     "output_type": "stream",
     "text": [
      "True\n"
     ]
    }
   ],
   "source": [
    "var_1 = \"test\"\n",
    "print(isinstance(var_1, str))"
   ]
  },
  {
   "cell_type": "code",
   "execution_count": 13,
   "id": "e0507ea1",
   "metadata": {},
   "outputs": [
    {
     "name": "stdout",
     "output_type": "stream",
     "text": [
      "False\n"
     ]
    }
   ],
   "source": [
    "print(isinstance(var_1, float))"
   ]
  },
  {
   "cell_type": "markdown",
   "id": "a0fb0bf2",
   "metadata": {},
   "source": [
    "### I.2 - Les opérations entre nature de même type\n",
    "L'opérateur **+** va fonctionner sur différentes natures, mais ne remplira pas le même rôle. \n",
    "\n",
    "- Il va notamment *concaténer* les chaines de caractères (**str**) et liste (**list**) :"
   ]
  },
  {
   "cell_type": "code",
   "execution_count": 14,
   "id": "6aa70864",
   "metadata": {},
   "outputs": [
    {
     "name": "stdout",
     "output_type": "stream",
     "text": [
      "début fin\n"
     ]
    }
   ],
   "source": [
    "string_1 = \"début \"\n",
    "string_2 = \"fin\"\n",
    "print(string_1+string_2)"
   ]
  },
  {
   "cell_type": "code",
   "execution_count": 15,
   "id": "1ac070fe",
   "metadata": {},
   "outputs": [
    {
     "name": "stdout",
     "output_type": "stream",
     "text": [
      "['début', 1, 2, [1, 2], 'fin', 3, 4]\n"
     ]
    }
   ],
   "source": [
    "list_1 = [\"début\",1,2,[1,2]]\n",
    "list_2 = [\"fin\",3,4]\n",
    "print(list_1+list_2)"
   ]
  },
  {
   "cell_type": "markdown",
   "id": "338ea7e2",
   "metadata": {},
   "source": [
    "- Il fera les *additions arithmétiques* pour les entiers (**int**), décimaux(**float**), matrice (**numpy.array**) et séries (**pandas.DataFrame**) :"
   ]
  },
  {
   "cell_type": "code",
   "execution_count": 16,
   "id": "2395c769",
   "metadata": {},
   "outputs": [
    {
     "name": "stdout",
     "output_type": "stream",
     "text": [
      "14.5\n"
     ]
    }
   ],
   "source": [
    "float_1 = 6.5\n",
    "int_1 = 8\n",
    "print(float_1+int_1)"
   ]
  },
  {
   "cell_type": "code",
   "execution_count": 17,
   "id": "8fce0a64",
   "metadata": {},
   "outputs": [
    {
     "name": "stdout",
     "output_type": "stream",
     "text": [
      "[0 0 0 0]\n"
     ]
    }
   ],
   "source": [
    "import numpy as np\n",
    "array_1 = np.array([5,6,8,9])\n",
    "array_2 = np.array([-5,-6,-8,-9])\n",
    "print(array_1+array_2)"
   ]
  },
  {
   "cell_type": "markdown",
   "id": "1794693a",
   "metadata": {},
   "source": [
    "La *soustraction* ne marche pas pour les **listes**, mais fonctionne sur les **matrices**.\n",
    "\n",
    "Certains objets disposent de méthodes spécifiques, il faut se renseigner sur sa documentation pour connaitre la boite à outils associée."
   ]
  },
  {
   "cell_type": "markdown",
   "id": "455f5dc0",
   "metadata": {},
   "source": [
    "### I.3 - if, elif et  else\n",
    "Ces outils permettent d'exécuter des lignes que si des conditions sont vérifiés, prenant compte que les  objets  de  type **bool**.\n",
    "Pour encapsuler les lignes sous conditions, une tabulation (quatre espaces dans Python) est ajouté.\n",
    "Suivant ce format :"
   ]
  },
  {
   "cell_type": "code",
   "execution_count": 18,
   "id": "367f86d5",
   "metadata": {},
   "outputs": [
    {
     "name": "stdout",
     "output_type": "stream",
     "text": [
      "2 est supérieur à 1\n"
     ]
    }
   ],
   "source": [
    "variable_1 = 2\n",
    "seuil_1 = 1\n",
    "\n",
    "if variable_1 > seuil_1:\n",
    "    print(f\"{variable_1} est supérieur à {seuil_1}\")\n",
    "else:\n",
    "    print(f\"{variable_1} est inférieu ou égal à {seuil_1}\") "
   ]
  },
  {
   "cell_type": "markdown",
   "id": "42283706",
   "metadata": {},
   "source": [
    "**elif** permet de mettre autant de condition intermédiaire successive entre le **if** et le **else**. Le **elif** et **else** ne s'exécutant que si les précédents **if** et **elif** n'ont pas fonctionné. Pour des **if** successif, le dernier s'exécute indépendamment du succès ou de l'échec des précédents **if**."
   ]
  },
  {
   "cell_type": "markdown",
   "id": "67dc6776",
   "metadata": {},
   "source": [
    "### Exercice 2 : conditions et opérations\n",
    "Écrivez un programme avec deux variables initiales, ce dernier doit vérifier leur nature et si ce sont des **float** effectuez une soustraction (puis afficher), si les deux sont du texte, les concaténer (puis afficher) et si les deux éléments ne sont pas de même nature, les afficher en spécifiant leurs natures."
   ]
  },
  {
   "cell_type": "code",
   "execution_count": 3,
   "id": "494ccaac",
   "metadata": {},
   "outputs": [
    {
     "name": "stdout",
     "output_type": "stream",
     "text": [
      "-1.0\n"
     ]
    }
   ],
   "source": [
    "#A vous de jouer :\n",
    "var_1 = 2.\n",
    "var_2 = 3.\n",
    "\n",
    "if isinstance(var_1,float) and isinstance(var_2,float):\n",
    "    result = var_1 - var_2\n",
    "    print(result)\n",
    "    \n",
    "elif isinstance(var_1,str) and isinstance(var_2,str):\n",
    "    result = var_1 + var_2\n",
    "    print(result)\n",
    "\n",
    "else:\n",
    "    print(f\"Opération immpossible : \\n {var_1} est un {type(var_1)} et {var_2} est un {type(var_2)} \")\n",
    "    "
   ]
  },
  {
   "cell_type": "markdown",
   "id": "b16a6845",
   "metadata": {},
   "source": [
    "## II - Les boucles\n",
    "### II.1 - la boucle while\n",
    "Cette dernière s'exécute sans cesse tant que la condition de test renvoie **True** :"
   ]
  },
  {
   "cell_type": "code",
   "execution_count": 20,
   "id": "20564b9f",
   "metadata": {},
   "outputs": [
    {
     "name": "stdout",
     "output_type": "stream",
     "text": [
      "x a pour valeur 1\n",
      "x a pour valeur 2\n",
      "x a pour valeur 4\n",
      "x a pour valeur 8\n",
      "Fin\n"
     ]
    }
   ],
   "source": [
    "x = 1\n",
    "while x < 10:\n",
    "    print(\"x a pour valeur\", x)\n",
    "    x = x * 2\n",
    "print(\"Fin\")"
   ]
  },
  {
   "cell_type": "markdown",
   "id": "c2d23810",
   "metadata": {},
   "source": [
    "Les risques de cette boucle sont de créer des boucles infinies, notamment lorsque la condition est ambigüe ou mal posée.\n",
    "Il est préférable quand cela est possible d'utiliser la boucle **for**.\n",
    "### II.1 - la boucle for\n",
    "Celle-ci s'exécute uniquement sur une liste, tableau ou autres objets *ittérable*. Elle va en parcourir tous les éléments et fonctionne en espace fini."
   ]
  },
  {
   "cell_type": "code",
   "execution_count": 21,
   "id": "badd4d3f",
   "metadata": {},
   "outputs": [
    {
     "name": "stdout",
     "output_type": "stream",
     "text": [
      "i a pour valeur 0\n",
      "i a pour valeur 1\n",
      "i a pour valeur 2\n",
      "i a pour valeur 3\n"
     ]
    }
   ],
   "source": [
    "for i in [0, 1, 2, 3]:\n",
    "    print(\"i a pour valeur\", i)"
   ]
  },
  {
   "cell_type": "markdown",
   "id": "b4a3bb2c",
   "metadata": {},
   "source": [
    "Un outil pratique à utiliser avec cette boucle est la fonction **enumerate(arr)**, cette dernière renvoie deux valeurs pour chaque valeur du tableau : le premier l'**indice** et le deuxième la **valeur** autorisant plus de contrôle lors du parcours :"
   ]
  },
  {
   "cell_type": "code",
   "execution_count": 22,
   "id": "e8a4046d",
   "metadata": {},
   "outputs": [
    {
     "name": "stdout",
     "output_type": "stream",
     "text": [
      "valeur :  9  indice : 0\n",
      "valeur :  12  indice : 1\n",
      "valeur :  5  indice : 2\n",
      "valeur :  45  indice : 3\n"
     ]
    }
   ],
   "source": [
    "for idx, value in enumerate([9, 12, 5, 45]):\n",
    "    print(\"valeur : \", value,\" indice :\",idx)"
   ]
  },
  {
   "cell_type": "markdown",
   "id": "a42be8c6",
   "metadata": {},
   "source": [
    "### Exercice 3\n",
    "\n",
    "Créer programme capable de parcourir un tableau et de  d'afficher les nombres qui sont pairs associé de leur position dans le tableau. "
   ]
  },
  {
   "cell_type": "code",
   "execution_count": 23,
   "id": "8e8e1a7a",
   "metadata": {},
   "outputs": [],
   "source": [
    "array_to_test = np.array([1,6,14,5,4,98,3,1,3,2,8,41,3,1,5,2,3,5,47,1,3,6,])\n",
    "\n",
    "#A vous de jouer :\n",
    "for idx, value in enumerate(array_to_test):\n",
    "    if value%2==0:\n",
    "        print(f\"{value} à la position {idx} est pair.\")"
   ]
  },
  {
   "cell_type": "markdown",
   "id": "dd423569",
   "metadata": {},
   "source": [
    "### Exercice 4\n",
    "Transformez votre précédent programme en une fonction.\n",
    "\n",
    "Puis intégré là dans une boucle de test sur plusieurs tableaux."
   ]
  },
  {
   "cell_type": "code",
   "execution_count": 4,
   "id": "0f3c5ef4",
   "metadata": {},
   "outputs": [
    {
     "name": "stdout",
     "output_type": "stream",
     "text": [
      "Pour le tablerau 1 :\n",
      "idx:[7, 9, 10, 11, 13, 17, 19, 20, 21, 24]\n",
      "val:[78, 44, 78, 88, 32, 74, 20, 16, 98, 34]\n",
      "Pour le tablerau 2 :\n",
      "idx:[0, 1, 2, 4, 5, 6, 7, 8, 9, 11, 13, 15, 18, 19, 20, 23, 24]\n",
      "val:[92, 36, 46, 82, 10, 16, 64, 84, 74, 0, 66, 32, 88, 6, 80, 88, 96]\n",
      "Pour le tablerau 3 :\n",
      "idx:[1, 3, 5, 7, 9, 12, 14, 16, 20, 24]\n",
      "val:[24, 70, 76, 24, 14, 84, 38, 94, 84, 68]\n"
     ]
    }
   ],
   "source": [
    "import numpy as np # On importe la boite à outils numpy sous l'alias np\n",
    "\n",
    "array_to_test_1 = np.random.randint(0, high=100, size=25) # créer un tablau de 25 élément entier aléatoire entre 0 et 100\n",
    "array_to_test_2 = np.random.randint(0, high=100, size=25)\n",
    "array_to_test_3 = np.random.randint(0, high=100, size=25)\n",
    "\n",
    "#A vous de jouer :\n",
    "def find_pair(array_like): #création d'une fonction\n",
    "    idx_list=[] #liste vide pour stocker les indices\n",
    "    value_list = [] # ideml pour les valeurs\n",
    "    for idx, value in enumerate(array_like):\n",
    "        if value%2==0:\n",
    "            idx_list.append(idx)\n",
    "            value_list.append(value)\n",
    "    return idx_list, value_list #renvoie de la fonction\n",
    "\n",
    "#Appel de la fonction ssur les tableau =>\n",
    "idx_1,val_1 = find_pair(array_to_test_1)\n",
    "idx_2,val_2 = find_pair(array_to_test_2)\n",
    "idx_3,val_3 = find_pair(array_to_test_3)\n",
    "\n",
    "print(f\"Pour le tablerau 1 :\\nidx:{idx_1}\\nval:{val_1}\")\n",
    "print(f\"Pour le tablerau 2 :\\nidx:{idx_2}\\nval:{val_2}\")\n",
    "print(f\"Pour le tablerau 3 :\\nidx:{idx_3}\\nval:{val_3}\")"
   ]
  },
  {
   "cell_type": "code",
   "execution_count": null,
   "id": "810667d2",
   "metadata": {},
   "outputs": [],
   "source": []
  }
 ],
 "metadata": {
  "kernelspec": {
   "display_name": "Python 3 (ipykernel)",
   "language": "python",
   "name": "python3"
  },
  "language_info": {
   "codemirror_mode": {
    "name": "ipython",
    "version": 3
   },
   "file_extension": ".py",
   "mimetype": "text/x-python",
   "name": "python",
   "nbconvert_exporter": "python",
   "pygments_lexer": "ipython3",
   "version": "3.10.9"
  }
 },
 "nbformat": 4,
 "nbformat_minor": 5
}
